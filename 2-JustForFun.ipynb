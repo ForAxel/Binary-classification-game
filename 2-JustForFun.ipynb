{
 "cells": [
  {
   "cell_type": "markdown",
   "metadata": {},
   "source": [
    "The recipe for today is just doing One-Hot most columns and Thermometer encoding of some ordinal columns. Finally, we apply plain Logistic Regression.\n",
    "\n",
    "Did anyone have success with more complex methods? Please let us know!"
   ]
  },
  {
   "cell_type": "code",
   "execution_count": 1,
   "metadata": {
    "_cell_guid": "b1076dfc-b9ad-4769-8c92-a6c4dae69d19",
    "_kg_hide-input": true,
    "_uuid": "8f2839f25d086af736a60e9eeb907d3b93b6e0e5"
   },
   "outputs": [],
   "source": [
    "import numpy as np\n",
    "import pandas as pd\n",
    "from sklearn.linear_model import LogisticRegression\n",
    "import scipy\n",
    "from tqdm import tqdm_notebook as tqdm\n",
    "from scipy.sparse import *"
   ]
  },
  {
   "cell_type": "code",
   "execution_count": 2,
   "metadata": {
    "_cell_guid": "79c7e3d0-c299-4dcb-8224-4455121ee9b0",
    "_uuid": "d629ff2d2480ee46fbb7e2d37f6b5fab8052498a"
   },
   "outputs": [],
   "source": [
    "dd0=pd.read_csv(\"DataSet/train.csv\")\n",
    "ddtest0=pd.read_csv(\"DataSet/test.csv\")"
   ]
  },
  {
   "cell_type": "code",
   "execution_count": 3,
   "metadata": {
    "_cell_guid": "79c7e3d0-c299-4dcb-8224-4455121ee9b0",
    "_uuid": "d629ff2d2480ee46fbb7e2d37f6b5fab8052498a"
   },
   "outputs": [
    {
     "data": {
      "text/plain": [
       "0    208236\n",
       "1     91764\n",
       "Name: target, dtype: int64"
      ]
     },
     "execution_count": 3,
     "metadata": {},
     "output_type": "execute_result"
    }
   ],
   "source": [
    "dd0.target.value_counts()"
   ]
  },
  {
   "cell_type": "code",
   "execution_count": 4,
   "metadata": {},
   "outputs": [
    {
     "data": {
      "text/plain": [
       "((100000, 25), (91764, 25))"
      ]
     },
     "execution_count": 4,
     "metadata": {},
     "output_type": "execute_result"
    }
   ],
   "source": [
    "dd00=dd0[dd0['target']==0]\n",
    "dd01=dd0[dd0['target']==1]\n",
    "dd00=dd00.sample(n=100000,random_state=23)\n",
    "dd00.shape,dd01.shape"
   ]
  },
  {
   "cell_type": "code",
   "execution_count": 8,
   "metadata": {
    "_cell_guid": "79c7e3d0-c299-4dcb-8224-4455121ee9b0",
    "_uuid": "d629ff2d2480ee46fbb7e2d37f6b5fab8052498a"
   },
   "outputs": [
    {
     "data": {
      "text/html": [
       "<div>\n",
       "<style scoped>\n",
       "    .dataframe tbody tr th:only-of-type {\n",
       "        vertical-align: middle;\n",
       "    }\n",
       "\n",
       "    .dataframe tbody tr th {\n",
       "        vertical-align: top;\n",
       "    }\n",
       "\n",
       "    .dataframe thead th {\n",
       "        text-align: right;\n",
       "    }\n",
       "</style>\n",
       "<table border=\"1\" class=\"dataframe\">\n",
       "  <thead>\n",
       "    <tr style=\"text-align: right;\">\n",
       "      <th></th>\n",
       "      <th>id</th>\n",
       "      <th>bin_0</th>\n",
       "      <th>bin_1</th>\n",
       "      <th>bin_2</th>\n",
       "      <th>bin_3</th>\n",
       "      <th>bin_4</th>\n",
       "      <th>nom_0</th>\n",
       "      <th>nom_1</th>\n",
       "      <th>nom_2</th>\n",
       "      <th>nom_3</th>\n",
       "      <th>...</th>\n",
       "      <th>nom_9</th>\n",
       "      <th>ord_0</th>\n",
       "      <th>ord_1</th>\n",
       "      <th>ord_2</th>\n",
       "      <th>ord_3</th>\n",
       "      <th>ord_4</th>\n",
       "      <th>ord_5</th>\n",
       "      <th>day</th>\n",
       "      <th>month</th>\n",
       "      <th>target</th>\n",
       "    </tr>\n",
       "  </thead>\n",
       "  <tbody>\n",
       "    <tr>\n",
       "      <th>291215</th>\n",
       "      <td>291215</td>\n",
       "      <td>0</td>\n",
       "      <td>0</td>\n",
       "      <td>0</td>\n",
       "      <td>F</td>\n",
       "      <td>N</td>\n",
       "      <td>Blue</td>\n",
       "      <td>Trapezoid</td>\n",
       "      <td>Axolotl</td>\n",
       "      <td>China</td>\n",
       "      <td>...</td>\n",
       "      <td>6f16df982</td>\n",
       "      <td>1</td>\n",
       "      <td>Contributor</td>\n",
       "      <td>Cold</td>\n",
       "      <td>e</td>\n",
       "      <td>S</td>\n",
       "      <td>gM</td>\n",
       "      <td>2</td>\n",
       "      <td>3</td>\n",
       "      <td>0.0</td>\n",
       "    </tr>\n",
       "    <tr>\n",
       "      <th>46283</th>\n",
       "      <td>46283</td>\n",
       "      <td>0</td>\n",
       "      <td>0</td>\n",
       "      <td>0</td>\n",
       "      <td>F</td>\n",
       "      <td>Y</td>\n",
       "      <td>Blue</td>\n",
       "      <td>Square</td>\n",
       "      <td>Snake</td>\n",
       "      <td>Finland</td>\n",
       "      <td>...</td>\n",
       "      <td>133d2331b</td>\n",
       "      <td>1</td>\n",
       "      <td>Contributor</td>\n",
       "      <td>Hot</td>\n",
       "      <td>c</td>\n",
       "      <td>U</td>\n",
       "      <td>KZ</td>\n",
       "      <td>3</td>\n",
       "      <td>4</td>\n",
       "      <td>0.0</td>\n",
       "    </tr>\n",
       "    <tr>\n",
       "      <th>178788</th>\n",
       "      <td>178788</td>\n",
       "      <td>0</td>\n",
       "      <td>0</td>\n",
       "      <td>1</td>\n",
       "      <td>T</td>\n",
       "      <td>Y</td>\n",
       "      <td>Blue</td>\n",
       "      <td>Trapezoid</td>\n",
       "      <td>Lion</td>\n",
       "      <td>Russia</td>\n",
       "      <td>...</td>\n",
       "      <td>394b68eb6</td>\n",
       "      <td>1</td>\n",
       "      <td>Novice</td>\n",
       "      <td>Cold</td>\n",
       "      <td>g</td>\n",
       "      <td>G</td>\n",
       "      <td>cp</td>\n",
       "      <td>2</td>\n",
       "      <td>2</td>\n",
       "      <td>0.0</td>\n",
       "    </tr>\n",
       "    <tr>\n",
       "      <th>261462</th>\n",
       "      <td>261462</td>\n",
       "      <td>1</td>\n",
       "      <td>0</td>\n",
       "      <td>0</td>\n",
       "      <td>F</td>\n",
       "      <td>N</td>\n",
       "      <td>Green</td>\n",
       "      <td>Polygon</td>\n",
       "      <td>Lion</td>\n",
       "      <td>Russia</td>\n",
       "      <td>...</td>\n",
       "      <td>7130c09a6</td>\n",
       "      <td>2</td>\n",
       "      <td>Novice</td>\n",
       "      <td>Freezing</td>\n",
       "      <td>f</td>\n",
       "      <td>J</td>\n",
       "      <td>Jc</td>\n",
       "      <td>2</td>\n",
       "      <td>12</td>\n",
       "      <td>0.0</td>\n",
       "    </tr>\n",
       "  </tbody>\n",
       "</table>\n",
       "<p>4 rows × 25 columns</p>\n",
       "</div>"
      ],
      "text/plain": [
       "            id  bin_0  bin_1  bin_2 bin_3 bin_4  nom_0      nom_1    nom_2  \\\n",
       "291215  291215      0      0      0     F     N   Blue  Trapezoid  Axolotl   \n",
       "46283    46283      0      0      0     F     Y   Blue     Square    Snake   \n",
       "178788  178788      0      0      1     T     Y   Blue  Trapezoid     Lion   \n",
       "261462  261462      1      0      0     F     N  Green    Polygon     Lion   \n",
       "\n",
       "          nom_3  ...      nom_9 ord_0        ord_1     ord_2 ord_3 ord_4  \\\n",
       "291215    China  ...  6f16df982     1  Contributor      Cold     e     S   \n",
       "46283   Finland  ...  133d2331b     1  Contributor       Hot     c     U   \n",
       "178788   Russia  ...  394b68eb6     1       Novice      Cold     g     G   \n",
       "261462   Russia  ...  7130c09a6     2       Novice  Freezing     f     J   \n",
       "\n",
       "        ord_5 day month target  \n",
       "291215     gM   2     3    0.0  \n",
       "46283      KZ   3     4    0.0  \n",
       "178788     cp   2     2    0.0  \n",
       "261462     Jc   2    12    0.0  \n",
       "\n",
       "[4 rows x 25 columns]"
      ]
     },
     "execution_count": 8,
     "metadata": {},
     "output_type": "execute_result"
    }
   ],
   "source": [
    "ddall=dd0.append(ddtest0, sort=False)\n",
    "num_train=len(dd0)\n",
    "ddall.head()\n",
    "\n",
    "temp_dd0=dd00.append(dd01,sort=False)\n",
    "ddall=temp_dd0.append(ddtest0,sort=False)\n",
    "num_train=len(temp_dd0)\n",
    "ddall.head(4)"
   ]
  },
  {
   "cell_type": "code",
   "execution_count": 9,
   "metadata": {},
   "outputs": [
    {
     "name": "stdout",
     "output_type": "stream",
     "text": [
      "0    100000\n",
      "1     91764\n",
      "Name: target, dtype: int64\n"
     ]
    }
   ],
   "source": [
    "print(temp_dd0.target.value_counts())\n",
    "# print(ddall.bin_0.value_counts())"
   ]
  },
  {
   "cell_type": "markdown",
   "metadata": {},
   "source": [
    "# Crazy feature engineering"
   ]
  },
  {
   "cell_type": "code",
   "execution_count": 10,
   "metadata": {},
   "outputs": [],
   "source": [
    "# drop_cols=[\"bin_0\"]\n",
    "drop_cols=[]\n",
    "\n",
    "# Split 2 Letters; This is the only part which is not generic and would actually require data inspection\n",
    "ddall[\"ord_5a\"]=ddall[\"ord_5\"].str[0]\n",
    "ddall[\"ord_5b\"]=ddall[\"ord_5\"].str[1]\n",
    "drop_cols.append(\"ord_5\")"
   ]
  },
  {
   "cell_type": "markdown",
   "metadata": {},
   "source": [
    "## Map cat vals which are not in both sets to single values"
   ]
  },
  {
   "cell_type": "code",
   "execution_count": 11,
   "metadata": {},
   "outputs": [],
   "source": [
    "for col in [\"nom_5\", \"nom_6\", \"nom_7\", \"nom_8\", \"nom_9\"]:\n",
    "    train_vals = set(dd0[col].unique())\n",
    "    test_vals = set(ddtest0[col].unique())\n",
    "   \n",
    "    xor_cat_vals=train_vals ^ test_vals\n",
    "    if xor_cat_vals:\n",
    "        ddall.loc[ddall[col].isin(xor_cat_vals), col]=\"xor\""
   ]
  },
  {
   "cell_type": "code",
   "execution_count": 12,
   "metadata": {},
   "outputs": [
    {
     "data": {
      "text/plain": [
       "316"
      ]
     },
     "execution_count": 12,
     "metadata": {},
     "output_type": "execute_result"
    }
   ],
   "source": [
    "len(xor_cat_vals)"
   ]
  },
  {
   "cell_type": "code",
   "execution_count": 13,
   "metadata": {},
   "outputs": [
    {
     "data": {
      "text/plain": [
       "(497, 27)"
      ]
     },
     "execution_count": 13,
     "metadata": {},
     "output_type": "execute_result"
    }
   ],
   "source": [
    "ddall[ddall.nom_9=='xor'].shape"
   ]
  },
  {
   "cell_type": "markdown",
   "metadata": {},
   "source": [
    "## One-Hot Encode all"
   ]
  },
  {
   "cell_type": "code",
   "execution_count": 14,
   "metadata": {},
   "outputs": [],
   "source": [
    "X=ddall[ddall.columns.difference([\"id\", \"target\"] + drop_cols)]"
   ]
  },
  {
   "cell_type": "code",
   "execution_count": 15,
   "metadata": {},
   "outputs": [
    {
     "data": {
      "text/html": [
       "<div>\n",
       "<style scoped>\n",
       "    .dataframe tbody tr th:only-of-type {\n",
       "        vertical-align: middle;\n",
       "    }\n",
       "\n",
       "    .dataframe tbody tr th {\n",
       "        vertical-align: top;\n",
       "    }\n",
       "\n",
       "    .dataframe thead th {\n",
       "        text-align: right;\n",
       "    }\n",
       "</style>\n",
       "<table border=\"1\" class=\"dataframe\">\n",
       "  <thead>\n",
       "    <tr style=\"text-align: right;\">\n",
       "      <th></th>\n",
       "      <th>bin_0</th>\n",
       "      <th>bin_1</th>\n",
       "      <th>bin_2</th>\n",
       "      <th>bin_3</th>\n",
       "      <th>bin_4</th>\n",
       "      <th>day</th>\n",
       "      <th>month</th>\n",
       "      <th>nom_0</th>\n",
       "      <th>nom_1</th>\n",
       "      <th>nom_2</th>\n",
       "      <th>...</th>\n",
       "      <th>nom_7</th>\n",
       "      <th>nom_8</th>\n",
       "      <th>nom_9</th>\n",
       "      <th>ord_0</th>\n",
       "      <th>ord_1</th>\n",
       "      <th>ord_2</th>\n",
       "      <th>ord_3</th>\n",
       "      <th>ord_4</th>\n",
       "      <th>ord_5a</th>\n",
       "      <th>ord_5b</th>\n",
       "    </tr>\n",
       "  </thead>\n",
       "  <tbody>\n",
       "    <tr>\n",
       "      <th>291215</th>\n",
       "      <td>0</td>\n",
       "      <td>0</td>\n",
       "      <td>0</td>\n",
       "      <td>F</td>\n",
       "      <td>N</td>\n",
       "      <td>2</td>\n",
       "      <td>3</td>\n",
       "      <td>Blue</td>\n",
       "      <td>Trapezoid</td>\n",
       "      <td>Axolotl</td>\n",
       "      <td>...</td>\n",
       "      <td>c9d67c6a2</td>\n",
       "      <td>95a0ec044</td>\n",
       "      <td>6f16df982</td>\n",
       "      <td>1</td>\n",
       "      <td>Contributor</td>\n",
       "      <td>Cold</td>\n",
       "      <td>e</td>\n",
       "      <td>S</td>\n",
       "      <td>g</td>\n",
       "      <td>M</td>\n",
       "    </tr>\n",
       "    <tr>\n",
       "      <th>46283</th>\n",
       "      <td>0</td>\n",
       "      <td>0</td>\n",
       "      <td>0</td>\n",
       "      <td>F</td>\n",
       "      <td>Y</td>\n",
       "      <td>3</td>\n",
       "      <td>4</td>\n",
       "      <td>Blue</td>\n",
       "      <td>Square</td>\n",
       "      <td>Snake</td>\n",
       "      <td>...</td>\n",
       "      <td>a95d13114</td>\n",
       "      <td>5a3ec6aff</td>\n",
       "      <td>133d2331b</td>\n",
       "      <td>1</td>\n",
       "      <td>Contributor</td>\n",
       "      <td>Hot</td>\n",
       "      <td>c</td>\n",
       "      <td>U</td>\n",
       "      <td>K</td>\n",
       "      <td>Z</td>\n",
       "    </tr>\n",
       "    <tr>\n",
       "      <th>178788</th>\n",
       "      <td>0</td>\n",
       "      <td>0</td>\n",
       "      <td>1</td>\n",
       "      <td>T</td>\n",
       "      <td>Y</td>\n",
       "      <td>2</td>\n",
       "      <td>2</td>\n",
       "      <td>Blue</td>\n",
       "      <td>Trapezoid</td>\n",
       "      <td>Lion</td>\n",
       "      <td>...</td>\n",
       "      <td>e14d5f3eb</td>\n",
       "      <td>d28926816</td>\n",
       "      <td>394b68eb6</td>\n",
       "      <td>1</td>\n",
       "      <td>Novice</td>\n",
       "      <td>Cold</td>\n",
       "      <td>g</td>\n",
       "      <td>G</td>\n",
       "      <td>c</td>\n",
       "      <td>p</td>\n",
       "    </tr>\n",
       "  </tbody>\n",
       "</table>\n",
       "<p>3 rows × 24 columns</p>\n",
       "</div>"
      ],
      "text/plain": [
       "        bin_0  bin_1  bin_2 bin_3 bin_4  day  month nom_0      nom_1    nom_2  \\\n",
       "291215      0      0      0     F     N    2      3  Blue  Trapezoid  Axolotl   \n",
       "46283       0      0      0     F     Y    3      4  Blue     Square    Snake   \n",
       "178788      0      0      1     T     Y    2      2  Blue  Trapezoid     Lion   \n",
       "\n",
       "        ...      nom_7      nom_8      nom_9 ord_0        ord_1 ord_2 ord_3  \\\n",
       "291215  ...  c9d67c6a2  95a0ec044  6f16df982     1  Contributor  Cold     e   \n",
       "46283   ...  a95d13114  5a3ec6aff  133d2331b     1  Contributor   Hot     c   \n",
       "178788  ...  e14d5f3eb  d28926816  394b68eb6     1       Novice  Cold     g   \n",
       "\n",
       "        ord_4 ord_5a ord_5b  \n",
       "291215      S      g      M  \n",
       "46283       U      K      Z  \n",
       "178788      G      c      p  \n",
       "\n",
       "[3 rows x 24 columns]"
      ]
     },
     "execution_count": 15,
     "metadata": {},
     "output_type": "execute_result"
    }
   ],
   "source": [
    "X.head(3)"
   ]
  },
  {
   "cell_type": "code",
   "execution_count": 16,
   "metadata": {},
   "outputs": [],
   "source": [
    "X_oh=X[X.columns.difference([\"ord_1\", \"ord_4\", \"ord_5a\", \"ord_5b\", \"day\", \"month\"])]\n",
    "oh1=pd.get_dummies(X_oh, columns=X_oh.columns, drop_first=True, sparse=True)\n",
    "# ohc1=oh1.sparse.to_coo()\n",
    "ohc1=oh1.to_coo()"
   ]
  },
  {
   "cell_type": "code",
   "execution_count": 17,
   "metadata": {},
   "outputs": [
    {
     "data": {
      "text/plain": [
       "scipy.sparse.coo.coo_matrix"
      ]
     },
     "execution_count": 17,
     "metadata": {},
     "output_type": "execute_result"
    }
   ],
   "source": [
    "type(ohc1)"
   ]
  },
  {
   "cell_type": "markdown",
   "metadata": {},
   "source": [
    "## 对于部分有序特征进行编码"
   ]
  },
  {
   "cell_type": "code",
   "execution_count": 19,
   "metadata": {
    "_kg_hide-input": true
   },
   "outputs": [],
   "source": [
    "from sklearn.base import TransformerMixin\n",
    "from itertools import repeat\n",
    "import scipy\n",
    "\n",
    "\n",
    "class ThermometerEncoder(TransformerMixin):\n",
    "    \"\"\"\n",
    "    Assumes all values are known at fit\n",
    "    \"\"\"\n",
    "    def __init__(self, sort_key=None):\n",
    "        self.sort_key = sort_key\n",
    "        self.value_map_ = None\n",
    "    \n",
    "    def fit(self, X, y=None):\n",
    "        self.value_map_ = {val: i for i, val in enumerate(sorted(X.unique(), key=self.sort_key))}\n",
    "        return self\n",
    "    \n",
    "    def transform(self, X, y=None):\n",
    "        values = X.map(self.value_map_)\n",
    "        \n",
    "        possible_values = sorted(self.value_map_.values())\n",
    "        \n",
    "        idx1 = []\n",
    "        idx2 = []\n",
    "        \n",
    "        all_indices = np.arange(len(X))\n",
    "        \n",
    "        for idx, val in enumerate(possible_values[:-1]):\n",
    "            new_idxs = all_indices[values > val]\n",
    "            idx1.extend(new_idxs)\n",
    "            idx2.extend(repeat(idx, len(new_idxs)))\n",
    "            \n",
    "        result = scipy.sparse.coo_matrix(([1] * len(idx1), (idx1, idx2)), shape=(len(X), len(possible_values)), dtype=\"int8\")\n",
    "            \n",
    "        return result"
   ]
  },
  {
   "cell_type": "code",
   "execution_count": 20,
   "metadata": {},
   "outputs": [],
   "source": [
    "thermos=[]\n",
    "for col in [\"ord_1\", \"ord_2\", \"ord_3\", \"ord_4\", \"ord_5a\", \"day\", \"month\"]:\n",
    "    if col==\"ord_1\":\n",
    "        sort_key=['Novice', 'Contributor', 'Expert', 'Master', 'Grandmaster'].index\n",
    "    elif col==\"ord_2\":\n",
    "        sort_key=['Freezing', 'Cold', 'Warm', 'Hot', 'Boiling Hot', 'Lava Hot'].index\n",
    "    elif col in [\"ord_3\", \"ord_4\", \"ord_5a\"]:\n",
    "        sort_key=str\n",
    "    elif col in [\"day\", \"month\"]:\n",
    "        sort_key=int\n",
    "    else:\n",
    "        raise ValueError(col)\n",
    "    \n",
    "    enc=ThermometerEncoder(sort_key=sort_key)\n",
    "    thermos.append(enc.fit_transform(X[col]))"
   ]
  },
  {
   "cell_type": "markdown",
   "metadata": {},
   "source": [
    "## Combine sparse matrices"
   ]
  },
  {
   "cell_type": "code",
   "execution_count": 21,
   "metadata": {},
   "outputs": [
    {
     "data": {
      "text/plain": [
       "<391764x16092 sparse matrix of type '<class 'numpy.int16'>'\n",
       "\twith 27264079 stored elements in Compressed Sparse Row format>"
      ]
     },
     "metadata": {},
     "output_type": "display_data"
    }
   ],
   "source": [
    "ohc=scipy.sparse.hstack([ohc1] + thermos).tocsr()\n",
    "display(ohc)\n",
    "\n",
    "X_train = ohc[:num_train]\n",
    "X_test = ohc[num_train:]\n",
    "y_train = dd0[\"target\"].values"
   ]
  },
  {
   "cell_type": "code",
   "execution_count": 22,
   "metadata": {},
   "outputs": [
    {
     "data": {
      "text/plain": [
       "scipy.sparse.csr.csr_matrix"
      ]
     },
     "execution_count": 22,
     "metadata": {},
     "output_type": "execute_result"
    }
   ],
   "source": [
    "type(X_train)"
   ]
  },
  {
   "cell_type": "markdown",
   "metadata": {},
   "source": [
    "# Make prediction"
   ]
  },
  {
   "cell_type": "code",
   "execution_count": null,
   "metadata": {},
   "outputs": [],
   "source": [
    "# clf=LogisticRegression(C=0.123456789, solver=\"lbfgs\", max_iter=5000)  # MODEL\n",
    "\n",
    "# clf.fit(X_train, y_train)\n",
    "\n",
    "# pred=clf.predict_proba(X_test)[:,1]\n",
    "\n",
    "# pd.DataFrame({\"id\": ddtest0[\"id\"], \"target\": pred}).to_csv(\"submission.csv\", index=False)"
   ]
  },
  {
   "cell_type": "code",
   "execution_count": null,
   "metadata": {},
   "outputs": [],
   "source": [
    "'''0.80815 method'''\n",
    "# clf1=LogisticRegression(C=0.1, solver=\"lbfgs\", max_iter=5000)  # MODEL\n",
    "# clf1.fit(X_train, y_train)\n",
    "# pred1=clf1.predict_proba(X_test)[:,1]\n",
    "\n",
    "# clf2=LogisticRegression(C=0.1, solver=\"sag\", max_iter=5000)  # MODEL\n",
    "# clf2.fit(X_train, y_train)\n",
    "# pred2=clf2.predict_proba(X_test)[:,1]\n",
    "\n",
    "# clf3=LogisticRegression(C=0.1, solver=\"saga\", max_iter=5000)  # MODEL\n",
    "# clf3.fit(X_train, y_train)\n",
    "# pred3=clf3.predict_proba(X_test)[:,1]"
   ]
  },
  {
   "cell_type": "code",
   "execution_count": null,
   "metadata": {},
   "outputs": [],
   "source": [
    "clf1=LogisticRegression(C=0.15, solver=\"lbfgs\", max_iter=1200)  # MODEL\n",
    "clf1.fit(X_train, y_train)\n",
    "pred1=clf1.predict_proba(X_test)[:,1]\n",
    "\n",
    "clf2=LogisticRegression(C=0.15, solver=\"sag\", max_iter=1200)  # MODEL\n",
    "clf2.fit(X_train, y_train)\n",
    "pred2=clf2.predict_proba(X_test)[:,1]\n",
    "\n",
    "clf3=LogisticRegression(C=0.15, solver=\"saga\", max_iter=1200)  # MODEL\n",
    "clf3.fit(X_train, y_train)\n",
    "pred3=clf3.predict_proba(X_test)[:,1]"
   ]
  },
  {
   "cell_type": "code",
   "execution_count": null,
   "metadata": {},
   "outputs": [],
   "source": [
    "ans=(pred1+pred2+pred3)/3\n",
    "pd.DataFrame({\"id\": ddtest0[\"id\"], \"target\": ans}).to_csv(\"submission.csv\", index=False)"
   ]
  },
  {
   "cell_type": "code",
   "execution_count": null,
   "metadata": {},
   "outputs": [],
   "source": [
    "len(ans)"
   ]
  },
  {
   "cell_type": "markdown",
   "metadata": {},
   "source": [
    "# Evaluate"
   ]
  },
  {
   "cell_type": "code",
   "execution_count": null,
   "metadata": {},
   "outputs": [],
   "source": [
    "from sklearn.model_selection import cross_validate\n",
    "\n",
    "score=cross_validate(clf, X_train, y_train, cv=3, scoring=\"roc_auc\")[\"test_score\"].mean()\n",
    "print(f\"{score:.6f}\")"
   ]
  },
  {
   "cell_type": "code",
   "execution_count": null,
   "metadata": {},
   "outputs": [],
   "source": []
  }
 ],
 "metadata": {
  "kernelspec": {
   "display_name": "Python 3",
   "language": "python",
   "name": "python3"
  },
  "language_info": {
   "codemirror_mode": {
    "name": "ipython",
    "version": 3
   },
   "file_extension": ".py",
   "mimetype": "text/x-python",
   "name": "python",
   "nbconvert_exporter": "python",
   "pygments_lexer": "ipython3",
   "version": "3.7.3"
  },
  "toc": {
   "base_numbering": 1,
   "nav_menu": {},
   "number_sections": true,
   "sideBar": true,
   "skip_h1_title": false,
   "title_cell": "Table of Contents",
   "title_sidebar": "Contents",
   "toc_cell": false,
   "toc_position": {},
   "toc_section_display": true,
   "toc_window_display": false
  }
 },
 "nbformat": 4,
 "nbformat_minor": 1
}
